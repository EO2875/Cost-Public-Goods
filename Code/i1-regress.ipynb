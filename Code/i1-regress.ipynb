{
 "cells": [
  {
   "cell_type": "code",
   "execution_count": 31,
   "metadata": {},
   "outputs": [
    {
     "name": "stderr",
     "output_type": "stream",
     "text": [
      "C:\\Users\\Etienne\\AppData\\Local\\Temp\\ipykernel_8988\\1825453167.py:8: DtypeWarning: Columns (395,832,833,931,1236,3283,3284,3352,3354,3358,3359,3361,3362,3363) have mixed types. Specify dtype option on import or set low_memory=False.\n",
      "  dataset = pd.read_csv(os.path.join(data_dir, 'VDem_13_urbpop.csv'))\n",
      "C:\\Users\\Etienne\\AppData\\Local\\Temp\\ipykernel_8988\\1825453167.py:9: DtypeWarning: Columns (395,832,833,931,1236,3283,3284,3352,3354,3358,3359,3361,3362,3363) have mixed types. Specify dtype option on import or set low_memory=False.\n",
      "  stata_data = pd.read_csv(os.path.join(data_dir, 'Stata-postprocess-2.csv'))\n"
     ]
    }
   ],
   "source": [
    "import os\n",
    "\n",
    "import numpy as np\n",
    "import pandas as pd\n",
    "\n",
    "from utils import data_dir\n",
    "\n",
    "dataset = pd.read_csv(os.path.join(data_dir, 'VDem_13_urbpop.csv'))\n",
    "stata_data = pd.read_csv(os.path.join(data_dir, 'Stata-postprocess-2.csv'))"
   ]
  },
  {
   "cell_type": "code",
   "execution_count": 32,
   "metadata": {},
   "outputs": [
    {
     "name": "stdout",
     "output_type": "stream",
     "text": [
      "p_GoodsRatio_WmP True\n",
      "GoodsRatio True\n",
      "ratiopublicprivate False\n"
     ]
    }
   ],
   "source": [
    "def isin(c):\n",
    "    print(c, c in stata_data.columns)\n",
    "\n",
    "isin('p_GoodsRatio_WmP')\n",
    "isin('GoodsRatio')\n",
    "isin('ratiopublicprivate')"
   ]
  },
  {
   "cell_type": "code",
   "execution_count": 33,
   "metadata": {},
   "outputs": [
    {
     "name": "stdout",
     "output_type": "stream",
     "text": [
      "2743.7634689975966\n",
      "-2323.6933119329433\n"
     ]
    }
   ],
   "source": [
    "import numpy as np\n",
    "\n",
    "def linear_log_likelihood(y_obs, y_pred):\n",
    "    \"\"\"  \"\"\"\n",
    "    residuals = y_obs - y_pred\n",
    "    sigma_squared = np.var(residuals)\n",
    "    n = len(y_obs)\n",
    "\n",
    "    log_likelihood = (\n",
    "        - 0.5 * n * np.log(2 * np.pi) \n",
    "        - 0.5 * n * np.log(sigma_squared) \n",
    "        - 0.5 * np.sum(residuals ** 2) / sigma_squared\n",
    "    )\n",
    "    return log_likelihood\n",
    "\n",
    "models = ['WmP', 'WmE', 'WmU', 'W4']\n",
    "controls = ['e_migdppcln', 'logpop']\n",
    "\n",
    "def restrict_data(*outcomes: str):\n",
    "    filtered = stata_data\n",
    "    for col in (*outcomes, *models, *controls,):\n",
    "        filtered = filtered[~filtered[col].isna()]\n",
    "    return filtered\n",
    "\n",
    "f = restrict_data('CivilLiberties')\n",
    "\n",
    "ll_m = linear_log_likelihood(f['CivilLiberties'], f['p_CivilLiberties_WmU'])\n",
    "ll_n = linear_log_likelihood(f['CivilLiberties'], f['CivilLiberties'].mean())\n",
    "\n",
    "print(ll_m)\n",
    "print(ll_n)"
   ]
  },
  {
   "cell_type": "code",
   "execution_count": 34,
   "metadata": {},
   "outputs": [
    {
     "data": {
      "text/plain": [
       "7399"
      ]
     },
     "execution_count": 34,
     "metadata": {},
     "output_type": "execute_result"
    }
   ],
   "source": [
    "len(f)"
   ]
  },
  {
   "cell_type": "code",
   "execution_count": 37,
   "metadata": {},
   "outputs": [
    {
     "name": "stdout",
     "output_type": "stream",
     "text": [
      "0.986 0.0089999996\n",
      "0       -0.058953\n",
      "1       -0.053342\n",
      "2       -0.056637\n",
      "3       -0.059332\n",
      "4       -0.065929\n",
      "           ...   \n",
      "10133   -0.087122\n",
      "10134   -0.087733\n",
      "10135   -0.089194\n",
      "10136   -0.088220\n",
      "10137   -0.097797\n",
      "Length: 7399, dtype: float64\n",
      "0.02788866389369014\n",
      "0.16699899369065113\n",
      "1.0325761840078486e-11\n",
      "       CivilLiberties  p_CivilLiberties_WmU\n",
      "0               0.401              0.459953\n",
      "1               0.410              0.463342\n",
      "2               0.410              0.466637\n",
      "3               0.410              0.469332\n",
      "4               0.405              0.470929\n",
      "...               ...                   ...\n",
      "10133           0.799              0.886122\n",
      "10134           0.799              0.886733\n",
      "10135           0.723              0.812194\n",
      "10136           0.668              0.756220\n",
      "10137           0.656              0.753797\n",
      "\n",
      "[7399 rows x 2 columns]\n"
     ]
    }
   ],
   "source": [
    "print(f['CivilLiberties'].max(), f['CivilLiberties'].min())\n",
    "r = f['CivilLiberties']-f['p_CivilLiberties_WmU']\n",
    "print(r)\n",
    "print(np.var(r))\n",
    "print(np.std(r))\n",
    "print(np.mean(r))\n",
    "print(f[['CivilLiberties', 'p_CivilLiberties_WmU']])"
   ]
  },
  {
   "cell_type": "code",
   "execution_count": 40,
   "metadata": {},
   "outputs": [],
   "source": [
    "from scipy.stats import norm\n",
    "\n",
    "density = norm.pdf(r, loc=np.mean(r), scale=np.std(r))"
   ]
  },
  {
   "cell_type": "code",
   "execution_count": 45,
   "metadata": {},
   "outputs": [
    {
     "data": {
      "text/plain": [
       "2743.7634689975976"
      ]
     },
     "execution_count": 45,
     "metadata": {},
     "output_type": "execute_result"
    }
   ],
   "source": [
    "np.sum(np.log(density))"
   ]
  }
 ],
 "metadata": {
  "kernelspec": {
   "display_name": "capstone",
   "language": "python",
   "name": "python3"
  },
  "language_info": {
   "codemirror_mode": {
    "name": "ipython",
    "version": 3
   },
   "file_extension": ".py",
   "mimetype": "text/x-python",
   "name": "python",
   "nbconvert_exporter": "python",
   "pygments_lexer": "ipython3",
   "version": "3.12.0"
  }
 },
 "nbformat": 4,
 "nbformat_minor": 2
}
